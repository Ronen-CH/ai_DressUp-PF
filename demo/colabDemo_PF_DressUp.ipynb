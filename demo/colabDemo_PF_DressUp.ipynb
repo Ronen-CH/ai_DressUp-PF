{
  "nbformat": 4,
  "nbformat_minor": 0,
  "metadata": {
    "accelerator": "GPU",
    "colab": {
      "name": "colabDemo-PF-DressUp.ipynb",
      "provenance": [],
      "collapsed_sections": [],
      "include_colab_link": true
    },
    "kernelspec": {
      "display_name": "Python 3",
      "name": "python3"
    },
    "language_info": {
      "name": "python"
    }
  },
  "cells": [
    {
      "cell_type": "markdown",
      "metadata": {
        "id": "view-in-github",
        "colab_type": "text"
      },
      "source": [
        "<a href=\"https://colab.research.google.com/github/Ronen-CH/ai_DressUp-PF/blob/main/demo/colabDemo_PF_DressUp.ipynb\" target=\"_parent\"><img src=\"https://colab.research.google.com/assets/colab-badge.svg\" alt=\"Open In Colab\"/></a>"
      ]
    },
    {
      "cell_type": "markdown",
      "metadata": {
        "id": "vfs4GrS_xT0d"
      },
      "source": [
        "## conda setup"
      ]
    },
    {
      "cell_type": "code",
      "metadata": {
        "id": "pg1VLnjzxNe_"
      },
      "source": [
        "import random\n",
        "import cv2\n",
        "from matplotlib import pyplot as plt\n",
        "from google.colab.patches import cv2_imshow"
      ],
      "execution_count": null,
      "outputs": []
    },
    {
      "cell_type": "code",
      "metadata": {
        "id": "XEyjYyC4xXiF"
      },
      "source": [
        "# Install conda and add channels to look for packages in\n",
        "import sys\n",
        "! wget https://repo.anaconda.com/archive/Anaconda3-2020.02-Linux-x86_64.sh\n",
        "! chmod +x Anaconda3-2020.02-Linux-x86_64.sh\n",
        "! bash ./Anaconda3-2020.02-Linux-x86_64.sh -b -f -p /usr/local\n",
        "sys.path.append('/usr/local/lib/python3.7/site-packages/')\n",
        "! conda update -n base -c defaults conda -y\n",
        "! conda config --add channels bioconda\n",
        "! conda config --add channels conda-forge"
      ],
      "execution_count": null,
      "outputs": []
    },
    {
      "cell_type": "markdown",
      "metadata": {
        "id": "IRuCuAMkxd7l"
      },
      "source": [
        "##PF-FPN Intial setup"
      ]
    },
    {
      "cell_type": "code",
      "metadata": {
        "id": "6akKJKg6xeeN"
      },
      "source": [
        "#265 seconds \n",
        "!conda create -n tryon python=3.6 -c defaults  -y\n",
        "!source activate tryon -c defaults  -y\n",
        "!conda install pytorch=1.1.0 torchvision=0.3.0 cudatoolkit=9.0 -c pytorch\n",
        "!conda install cupy==6.0.0 -c defaults  -y\n",
        "#!conda install pillow=6.1\n",
        "!pip install pillow==6.1\n",
        "!pip install opencv-python"
      ],
      "execution_count": null,
      "outputs": []
    },
    {
      "cell_type": "markdown",
      "metadata": {
        "id": "Wq9mrLW4xqs1"
      },
      "source": [
        "## Setup demo for test\n",
        "\n",
        "* cd PF-AFN_test\n",
        "* First, you need to download the checkpoints from checkpoints and put the folder \"PFAFN\" under the folder \"checkpoints\". The folder \"checkpoints/PFAFN\" shold contain \"warp_model_final.pth\" and \"gen_model_final.pth\".\n",
        "\n",
        "* The \"dataset\" folder contains the demo images for test, where the \"test_img\" folder contains the person images, the \"test_clothes\" folder contains the clothes images, and the \"test_edge\" folder contains edges extracted from the clothes images with the built-in function in python (We saved the extracted edges from the clothes images for convenience). 'demo.txt' records the test pairs.\n",
        "* During test, a person image, a clothes image and its extracted edge are fed into the network to generate the try-on image. No human parsing results or human pose estimation results are needed for test."
      ]
    },
    {
      "cell_type": "code",
      "metadata": {
        "id": "ANmQcwPXxrZF",
        "colab": {
          "base_uri": "https://localhost:8080/"
        },
        "outputId": "2c86009c-eaab-4eea-ba70-512b9dee879d"
      },
      "source": [
        "%cd /content/"
      ],
      "execution_count": null,
      "outputs": [
        {
          "output_type": "stream",
          "name": "stdout",
          "text": [
            "/content\n"
          ]
        }
      ]
    },
    {
      "cell_type": "code",
      "metadata": {
        "id": "_A-6rd0yxtiW"
      },
      "source": [
        "%cd ./PF-DressUp/PF-DressUp_test"
      ],
      "execution_count": null,
      "outputs": []
    },
    {
      "cell_type": "code",
      "metadata": {
        "id": "lGPdBhA1x5p9"
      },
      "source": [
        "!ls /content/PF-DressUp/PF-DressUp_test/checkpoints"
      ],
      "execution_count": null,
      "outputs": []
    },
    {
      "cell_type": "code",
      "metadata": {
        "id": "UM-8-Jn5x-i1"
      },
      "source": [
        "!ls /content/PF-DressUp/PF-DressUp_test/checkpoints/DressUp/"
      ],
      "execution_count": null,
      "outputs": []
    },
    {
      "cell_type": "markdown",
      "metadata": {
        "id": "fm7Vx1NuyB5V"
      },
      "source": [
        "##Run the demo\n",
        "\n",
        "* To test with the saved model, run test.sh and the results will be saved in the folder \"results\".\n",
        "* To reproduce our results from the saved model, your test environment should be the same as our test environment, especifically for the version of cupy."
      ]
    },
    {
      "cell_type": "code",
      "metadata": {
        "id": "tGJKvGFWyCjG"
      },
      "source": [
        "!pwd"
      ],
      "execution_count": null,
      "outputs": []
    },
    {
      "cell_type": "code",
      "metadata": {
        "id": "E8GOFLDNyEzl"
      },
      "source": [
        "%cd /content/"
      ],
      "execution_count": null,
      "outputs": []
    },
    {
      "cell_type": "code",
      "metadata": {
        "id": "ywx8yiNsyGbN"
      },
      "source": [
        "%cd /content/PF-DressUp/PF-DressUp_test/"
      ],
      "execution_count": null,
      "outputs": []
    },
    {
      "cell_type": "code",
      "metadata": {
        "id": "p9PV0jZzyIA9"
      },
      "source": [
        "! chmod +x test.py"
      ],
      "execution_count": null,
      "outputs": []
    },
    {
      "cell_type": "markdown",
      "metadata": {
        "id": "iYbRMvOzyM4F"
      },
      "source": [
        "## Test1"
      ]
    },
    {
      "cell_type": "code",
      "metadata": {
        "id": "GUhAAwZQyNTl"
      },
      "source": [
        "!python test.py --name demo --resize_or_crop None --batchSize 1 --gpu_ids 0"
      ],
      "execution_count": null,
      "outputs": []
    },
    {
      "cell_type": "code",
      "metadata": {
        "id": "K-d2QuQ5f-vs"
      },
      "source": [
        "import cv2 \n",
        "from google.colab.patches import cv2_imshow\n",
        "img0 = cv2.imread('/content/PF-DressUp/PF-DressUp_test/results/demo/PFAFN/'+'0.jpg')\n",
        "img1 = cv2.imread('/content/PF-DressUp/PF-DressUp_test/results/demo/PFAFN/'+'1.jpg')\n",
        "img2 = cv2.imread('/content/PF-DressUp/PF-DressUp_test/results/demo/PFAFN/'+'2.jpg')\n",
        "img3 = cv2.imread('/content/PF-DressUp/PF-DressUp_test/results/demo/PFAFN/'+'3.jpg')\n",
        "img4 = cv2.imread('/content/PF-DressUp/PF-DressUp_test/results/demo/PFAFN/'+'4.jpg')\n",
        "img5 = cv2.imread('/content/PF-DressUp/PF-DressUp_test/results/demo/PFAFN/'+'5.jpg')\n",
        "\n",
        "im_v = cv2.vconcat([img0,img1,img2,img3,img4,img5])\n",
        "  \n",
        "# show the output image\n",
        "cv2_imshow(im_v)"
      ],
      "execution_count": null,
      "outputs": []
    },
    {
      "cell_type": "markdown",
      "metadata": {
        "id": "wJpV-YHO0Pul"
      },
      "source": [
        "## Demo mode\n",
        "\n",
        "To Run the demo, just chose Runtime -> Run After \n"
      ]
    },
    {
      "cell_type": "code",
      "metadata": {
        "id": "TLu_BJUieyw2"
      },
      "source": [
        "# replace demo.txt:\n",
        "%cd /content/PF-DressUp/PF-DressUp_test/\n",
        "!rm demo.txt\n",
        "from google.colab import files\n",
        "uploaded = files.upload()"
      ],
      "execution_count": null,
      "outputs": []
    },
    {
      "cell_type": "code",
      "metadata": {
        "id": "UiTNsJV7eY6g"
      },
      "source": [
        "# Add cloth item\n",
        "%cd /content/PF-DressUp/PF-DressUp_test/dataset/test_clothes/\n",
        "!rm 006026_1.jpg\n",
        "!rm 010567_1.jpg\n",
        "!rm 014396_1.jpg\n",
        "!rm 017575_1.jpg\n",
        "!rm 019119_1.jpg\n",
        "!rm 003434_1.jpg\n",
        "from google.colab import files\n",
        "uploaded = files.upload()"
      ],
      "execution_count": null,
      "outputs": []
    },
    {
      "cell_type": "code",
      "metadata": {
        "id": "0cnKl7rV2Zdu"
      },
      "source": [
        "# Add edge of cloth item // with name 003434_1.jpg\n",
        "%cd /content/PF-DressUp/PF-DressUp_test/dataset/test_edge/\n",
        "!rm 006026_1.jpg\n",
        "!rm 010567_1.jpg\n",
        "!rm 014396_1.jpg\n",
        "!rm 017575_1.jpg\n",
        "!rm 019119_1.jpg\n",
        "!rm 003434_1.jpg\n",
        "from google.colab import files\n",
        "uploaded = files.upload()"
      ],
      "execution_count": null,
      "outputs": []
    },
    {
      "cell_type": "code",
      "metadata": {
        "id": "BiZvlu6O2jBd"
      },
      "source": [
        "# Add model image // with name 000066_0.jpg\n",
        "%cd /content/PF-DressUp/PF-DressUp_test/dataset/test_img/\n",
        "!rm 004912_0.jpg\n",
        "!rm 005510_0.jpg\n",
        "!rm 015794_0.jpg\n",
        "!rm 014834_0.jpg\n",
        "!rm 016962_0.jpg\n",
        "!rm 000066_0.jpg\n",
        "from google.colab import files\n",
        "uploaded = files.upload()"
      ],
      "execution_count": null,
      "outputs": []
    },
    {
      "cell_type": "code",
      "metadata": {
        "id": "-ryL8pvUflC-"
      },
      "source": [
        "# Clean results:\n",
        "%cd /content/PF-DressUp/PF-DressUp_test/results/demo/PFAFN/\n",
        "!rm 0.jpg\n",
        "!rm 1.jpg\n",
        "!rm 2.jpg\n",
        "!rm 3.jpg\n",
        "!rm 4.jpg\n",
        "!rm 5.jpg"
      ],
      "execution_count": null,
      "outputs": []
    },
    {
      "cell_type": "code",
      "metadata": {
        "id": "RP5FKnb7GgGA"
      },
      "source": [
        "# run code:\n",
        "%cd /content/PF-DressUp/PF-DressUp_test/\n",
        "!python test.py --name demo --resize_or_crop None --batchSize 1 --gpu_ids 0"
      ],
      "execution_count": null,
      "outputs": []
    },
    {
      "cell_type": "code",
      "metadata": {
        "id": "8fgc4tKqGx4Y"
      },
      "source": [
        "import cv2 \n",
        "from google.colab.patches import cv2_imshow\n",
        "img0 = cv2.imread('/content/PF-DressUp/PF-DressUp_test/results/demo/PFAFN/'+'0.jpg')\n",
        "  \n",
        "# show the output image\n",
        "cv2_imshow(img0)"
      ],
      "execution_count": null,
      "outputs": []
    }
  ]
}